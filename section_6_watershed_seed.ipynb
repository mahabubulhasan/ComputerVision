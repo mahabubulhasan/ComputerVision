{
 "cells": [
  {
   "cell_type": "code",
   "execution_count": 1,
   "id": "f4284bcb",
   "metadata": {},
   "outputs": [],
   "source": [
    "import cv2\n",
    "import numpy as np\n",
    "import matplotlib.pyplot as plt"
   ]
  },
  {
   "cell_type": "code",
   "execution_count": 2,
   "id": "05fbbf1d",
   "metadata": {},
   "outputs": [
    {
     "name": "stdout",
     "output_type": "stream",
     "text": [
      "(600, 800)\n",
      "(600, 800)\n",
      "(600, 800, 3)\n"
     ]
    }
   ],
   "source": [
    "road = cv2.imread('DATA/road_image.jpg')\n",
    "road_copy = np.copy(road)\n",
    "print(road.shape[:2])\n",
    "\n",
    "marker_image = np.zeros(road.shape[:2], dtype=np.int32)\n",
    "segments = np.zeros(road.shape, dtype=np.uint8)\n",
    "print(marker_image.shape)\n",
    "print(segments.shape)"
   ]
  },
  {
   "cell_type": "code",
   "execution_count": 3,
   "id": "cbb82a41",
   "metadata": {},
   "outputs": [
    {
     "name": "stdout",
     "output_type": "stream",
     "text": [
      "[(np.float64(31.0), np.float64(119.0), np.float64(180.0)), (np.float64(255.0), np.float64(127.0), np.float64(14.0)), (np.float64(44.0), np.float64(160.0), np.float64(44.0)), (np.float64(214.0), np.float64(39.0), np.float64(40.0)), (np.float64(148.0), np.float64(103.0), np.float64(189.0)), (np.float64(140.0), np.float64(86.0), np.float64(75.0)), (np.float64(227.0), np.float64(119.0), np.float64(194.0)), (np.float64(127.0), np.float64(127.0), np.float64(127.0)), (np.float64(188.0), np.float64(189.0), np.float64(34.0)), (np.float64(23.0), np.float64(190.0), np.float64(207.0))]\n"
     ]
    }
   ],
   "source": [
    "from matplotlib import cm\n",
    "# cm.tab10(0)\n",
    "\n",
    "def create_rgb(i):\n",
    "    return tuple(np.array(cm.tab10(i)[:3])*255)\n",
    "\n",
    "colors = []\n",
    "for i in range(10):\n",
    "    colors.append(create_rgb(i))\n",
    "\n",
    "print(colors)\n"
   ]
  },
  {
   "cell_type": "code",
   "execution_count": 5,
   "id": "a87ad6cf",
   "metadata": {},
   "outputs": [],
   "source": [
    "n_markers = 10\n",
    "current_marker = 1\n",
    "marks_updated = False\n",
    "\n",
    "def mouse_callback(event, x, y, flags, param):\n",
    "    global marks_updated\n",
    "\n",
    "    if event == cv2.EVENT_LBUTTONDOWN:\n",
    "        cv2.circle(marker_image, (x, y), 10, (current_marker), -1)\n",
    "        cv2.circle(road_copy, (x, y), 10, colors[current_marker], -1)\n",
    "        marks_updated = True\n",
    "\n",
    "cv2.namedWindow('Road Image')\n",
    "cv2.setMouseCallback('Road Image', mouse_callback)\n",
    "\n",
    "while True:\n",
    "    cv2.imshow('Watershed Segments', segments)\n",
    "    cv2.imshow('Road Image', road_copy)\n",
    "\n",
    "    k = cv2.waitKey(1)\n",
    "\n",
    "    if k == 27: # Esc\n",
    "        cv2.destroyAllWindows()\n",
    "        break\n",
    "\n",
    "    # clearing all the colors press C key\n",
    "    elif k == ord('c'):\n",
    "        road_copy = road.copy()\n",
    "        marker_image = np.zeros(road.shape[:2], dtype=np.int32)\n",
    "        segments = np.zeros(road.shape, dtype=np.uint8)\n",
    "\n",
    "    # update color choise\n",
    "    elif k > 0 and chr(k).isdigit():\n",
    "        current_marker = int(chr(k))\n",
    "\n",
    "    if marks_updated:\n",
    "        marker_image_copy = marker_image.copy()\n",
    "        cv2.watershed(road, marker_image_copy)\n",
    "\n",
    "        segments = np.zeros(road.shape, dtype=np.uint8)\n",
    "\n",
    "        for color_ind in range(n_markers):\n",
    "            # coloring segments\n",
    "            segments[marker_image_copy==(color_ind)] = colors[color_ind]"
   ]
  }
 ],
 "metadata": {
  "kernelspec": {
   "display_name": "ComputerVision (3.10.11)",
   "language": "python",
   "name": "python3"
  },
  "language_info": {
   "codemirror_mode": {
    "name": "ipython",
    "version": 3
   },
   "file_extension": ".py",
   "mimetype": "text/x-python",
   "name": "python",
   "nbconvert_exporter": "python",
   "pygments_lexer": "ipython3",
   "version": "3.10.11"
  }
 },
 "nbformat": 4,
 "nbformat_minor": 5
}
